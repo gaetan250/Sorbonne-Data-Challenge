{
 "cells": [
  {
   "cell_type": "markdown",
   "metadata": {},
   "source": [
    "Ce script lit les deux premiers fichiers `.json` représentant des graphes DOT, identifie les types de nœuds (entry, call, jmp...), trace un sous-graphe interactif avec flèches directionnelles et couleurs, et génère une visualisation HTML par graphe.  \n",
    "Chaque graphe est stylisé avec une légende, un fond clair, et les flèches indiquent le flot de contrôle.\n"
   ]
  },
  {
   "cell_type": "code",
   "execution_count": 61,
   "metadata": {},
   "outputs": [],
   "source": [
    "import os\n",
    "import re\n",
    "import networkx as nx\n",
    "import plotly.graph_objects as go\n",
    "import webbrowser\n",
    "\n",
    "input_dir = \"folder_test_set\"\n",
    "output_dir = \"graph_viz\"\n",
    "os.makedirs(output_dir, exist_ok=True)\n",
    "\n",
    "COLOR_MAP = {\n",
    "    \"ENTRY\": \"black\",\n",
    "    \"CALL\": \"orange\",\n",
    "    \"JMP\": \"skyblue\",\n",
    "    \"JCC\": \"violet\",\n",
    "    \"RET\": \"deepskyblue\",\n",
    "    \"OTHER\": \"gray\"\n",
    "}\n",
    "\n",
    "def parse_dot_to_graph(dot_str):\n",
    "    G = nx.DiGraph()\n",
    "    lines = dot_str.strip().split(\"\\n\")\n",
    "    for line in lines:\n",
    "        line = line.strip()\n",
    "        if \"->\" in line:\n",
    "            match = re.match(r'\"([^\"]+)\"\\s*->\\s*\"([^\"]+)\"', line)\n",
    "            if match:\n",
    "                src, dst = match.groups()\n",
    "                G.add_edge(src, dst)\n",
    "        elif \"[\" in line and \"label =\" in line:\n",
    "            match = re.match(r'\"([^\"]+)\"\\s*\\[label = \"(.*?)\"\\]', line)\n",
    "            if match:\n",
    "                node_id, label = match.groups()\n",
    "                parts = label.split(\" : \")\n",
    "                instr_text = parts[1] if len(parts) > 1 else \"\"\n",
    "                G.add_node(node_id, text=instr_text.upper())\n",
    "    return G\n",
    "\n",
    "def get_instr_class(instr, node, entry_node):\n",
    "    if node == entry_node:\n",
    "        return \"ENTRY\"\n",
    "    if \"CALL\" in instr:\n",
    "        return \"CALL\"\n",
    "    if \"JMP\" in instr and not \"JCC\" in instr:\n",
    "        return \"JMP\"\n",
    "    if \"JCC\" in instr:\n",
    "        return \"JCC\"\n",
    "    if \"RET\" in instr:\n",
    "        return \"RET\"\n",
    "    return \"OTHER\"\n",
    "\n",
    "def find_entry_node(G):\n",
    "    for node, data in G.nodes(data=True):\n",
    "        if \"ENTRY\" in data.get(\"text\", \"\"):\n",
    "            return node\n",
    "    entry_candidates = [n for n in G.nodes if G.in_degree(n) == 0]\n",
    "    if entry_candidates:\n",
    "        return entry_candidates[0]\n",
    "    return list(G.nodes)[0]\n",
    "\n",
    "def graph_to_html(G, graph_id, max_nodes=50):\n",
    "    nodes = list(G.nodes())[:max_nodes]\n",
    "    H = G.subgraph(nodes).copy()\n",
    "    pos = nx.spring_layout(H, seed=42)\n",
    "\n",
    "    entry_node = find_entry_node(H)\n",
    "\n",
    "    node_x, node_y, node_color, node_class, node_hover = [], [], [], [], []\n",
    "    for node in H.nodes():\n",
    "        x, y = pos[node]\n",
    "        instr = H.nodes[node].get(\"text\", \"\")\n",
    "        cls = get_instr_class(instr, node, entry_node)\n",
    "        node_x.append(x)\n",
    "        node_y.append(y)\n",
    "        node_color.append(COLOR_MAP[cls])\n",
    "        node_class.append(cls)\n",
    "        hover_label = \"ENTRY\" if node == entry_node else instr\n",
    "        node_hover.append(hover_label)\n",
    "\n",
    "    traces = []\n",
    "    for cls in COLOR_MAP:\n",
    "        indices = [i for i, c in enumerate(node_class) if c == cls]\n",
    "        if indices:\n",
    "            traces.append(go.Scatter(\n",
    "                x=[node_x[i] for i in indices],\n",
    "                y=[node_y[i] for i in indices],\n",
    "                mode='markers',\n",
    "                hovertext=[node_hover[i] for i in indices],\n",
    "                hoverinfo='text',\n",
    "                marker=dict(color=COLOR_MAP[cls], size=12, line=dict(width=1, color='black')),\n",
    "                name=cls\n",
    "            ))\n",
    "\n",
    "    annotations = []\n",
    "    for src, dst in H.edges():\n",
    "        if src in pos and dst in pos:\n",
    "            x0, y0 = pos[src]\n",
    "            x1, y1 = pos[dst]\n",
    "            annotations.append(dict(\n",
    "                ax=x0, ay=y0,\n",
    "                x=x1, y=y1,\n",
    "                xref='x', yref='y',\n",
    "                axref='x', ayref='y',\n",
    "                showarrow=True,\n",
    "                arrowhead=3,\n",
    "                arrowsize=2,\n",
    "                arrowwidth=1.5,\n",
    "                arrowcolor='gray',\n",
    "                opacity=0.7\n",
    "            ))\n",
    "\n",
    "    fig = go.Figure(data=traces,\n",
    "                   layout=go.Layout(\n",
    "                       title=f\"Graphe interactif - {graph_id}\",\n",
    "                       showlegend=True,\n",
    "                       annotations=annotations,\n",
    "                       hovermode='closest',\n",
    "                       margin=dict(b=20, l=5, r=5, t=40),\n",
    "                       xaxis=dict(showgrid=False, zeroline=False, visible=False),\n",
    "                       yaxis=dict(showgrid=False, zeroline=False, visible=False),\n",
    "                       plot_bgcolor='white',\n",
    "                       legend=dict(\n",
    "                           x=1.01,\n",
    "                           y=1,\n",
    "                           bgcolor='rgba(255,255,255,0.6)',\n",
    "                           bordercolor='gray',\n",
    "                           borderwidth=1\n",
    "                       )\n",
    "                   ))\n",
    "\n",
    "    output_path = os.path.abspath(os.path.join(output_dir, f\"{graph_id}_with_arrows.html\"))\n",
    "    fig.write_html(output_path)\n",
    "    webbrowser.open(f\"file://{output_path}\")\n",
    "\n",
    "json_files = sorted([f for f in os.listdir(input_dir) if f.endswith(\".json\")])\n",
    "for file in json_files[:2]:\n",
    "    graph_id = file.replace(\".json\", \"\")\n",
    "    file_path = os.path.join(input_dir, file)\n",
    "    with open(file_path, \"r\", encoding=\"utf-8\", errors=\"ignore\") as f:\n",
    "        dot_str = f.read()\n",
    "    G = parse_dot_to_graph(dot_str)\n",
    "    if G.number_of_nodes() > 0:\n",
    "        graph_to_html(G, graph_id)\n"
   ]
  },
  {
   "cell_type": "code",
   "execution_count": 3,
   "metadata": {},
   "outputs": [
    {
     "data": {
      "application/vnd.plotly.v1+json": {
       "config": {
        "plotlyServerURL": "https://plot.ly"
       },
       "data": [
        {
         "hovertemplate": "Label=%{x}<br>Nombre de prédictions positives=%{y}<extra></extra>",
         "legendgroup": "",
         "marker": {
          "color": "#636efa",
          "pattern": {
           "shape": ""
          }
         },
         "name": "",
         "orientation": "v",
         "showlegend": false,
         "textposition": "auto",
         "type": "bar",
         "x": [
          "peexe",
          "overlay",
          "detect-debug-environment",
          "write file on Windows",
          "encode data using XOR",
          "terminate process",
          "read file on Windows",
          "get common file path",
          "create process on Windows",
          "check if file exists",
          "query or enumerate registry value",
          "delete file",
          "create thread",
          "checks-user-input",
          "delay execution",
          "create or open registry key",
          "create or open file",
          "create directory",
          "query environment variable",
          "spreader"
         ],
         "xaxis": "x",
         "y": {
          "bdata": "Tgo/CL8GQAbUBcMFcgVrBTYFAgXHBLEEkASEBGoEHwQXBP4D9QO9Aw==",
          "dtype": "i2"
         },
         "yaxis": "y"
        }
       ],
       "layout": {
        "barmode": "relative",
        "legend": {
         "tracegroupgap": 0
        },
        "template": {
         "data": {
          "bar": [
           {
            "error_x": {
             "color": "#2a3f5f"
            },
            "error_y": {
             "color": "#2a3f5f"
            },
            "marker": {
             "line": {
              "color": "#E5ECF6",
              "width": 0.5
             },
             "pattern": {
              "fillmode": "overlay",
              "size": 10,
              "solidity": 0.2
             }
            },
            "type": "bar"
           }
          ],
          "barpolar": [
           {
            "marker": {
             "line": {
              "color": "#E5ECF6",
              "width": 0.5
             },
             "pattern": {
              "fillmode": "overlay",
              "size": 10,
              "solidity": 0.2
             }
            },
            "type": "barpolar"
           }
          ],
          "carpet": [
           {
            "aaxis": {
             "endlinecolor": "#2a3f5f",
             "gridcolor": "white",
             "linecolor": "white",
             "minorgridcolor": "white",
             "startlinecolor": "#2a3f5f"
            },
            "baxis": {
             "endlinecolor": "#2a3f5f",
             "gridcolor": "white",
             "linecolor": "white",
             "minorgridcolor": "white",
             "startlinecolor": "#2a3f5f"
            },
            "type": "carpet"
           }
          ],
          "choropleth": [
           {
            "colorbar": {
             "outlinewidth": 0,
             "ticks": ""
            },
            "type": "choropleth"
           }
          ],
          "contour": [
           {
            "colorbar": {
             "outlinewidth": 0,
             "ticks": ""
            },
            "colorscale": [
             [
              0,
              "#0d0887"
             ],
             [
              0.1111111111111111,
              "#46039f"
             ],
             [
              0.2222222222222222,
              "#7201a8"
             ],
             [
              0.3333333333333333,
              "#9c179e"
             ],
             [
              0.4444444444444444,
              "#bd3786"
             ],
             [
              0.5555555555555556,
              "#d8576b"
             ],
             [
              0.6666666666666666,
              "#ed7953"
             ],
             [
              0.7777777777777778,
              "#fb9f3a"
             ],
             [
              0.8888888888888888,
              "#fdca26"
             ],
             [
              1,
              "#f0f921"
             ]
            ],
            "type": "contour"
           }
          ],
          "contourcarpet": [
           {
            "colorbar": {
             "outlinewidth": 0,
             "ticks": ""
            },
            "type": "contourcarpet"
           }
          ],
          "heatmap": [
           {
            "colorbar": {
             "outlinewidth": 0,
             "ticks": ""
            },
            "colorscale": [
             [
              0,
              "#0d0887"
             ],
             [
              0.1111111111111111,
              "#46039f"
             ],
             [
              0.2222222222222222,
              "#7201a8"
             ],
             [
              0.3333333333333333,
              "#9c179e"
             ],
             [
              0.4444444444444444,
              "#bd3786"
             ],
             [
              0.5555555555555556,
              "#d8576b"
             ],
             [
              0.6666666666666666,
              "#ed7953"
             ],
             [
              0.7777777777777778,
              "#fb9f3a"
             ],
             [
              0.8888888888888888,
              "#fdca26"
             ],
             [
              1,
              "#f0f921"
             ]
            ],
            "type": "heatmap"
           }
          ],
          "histogram": [
           {
            "marker": {
             "pattern": {
              "fillmode": "overlay",
              "size": 10,
              "solidity": 0.2
             }
            },
            "type": "histogram"
           }
          ],
          "histogram2d": [
           {
            "colorbar": {
             "outlinewidth": 0,
             "ticks": ""
            },
            "colorscale": [
             [
              0,
              "#0d0887"
             ],
             [
              0.1111111111111111,
              "#46039f"
             ],
             [
              0.2222222222222222,
              "#7201a8"
             ],
             [
              0.3333333333333333,
              "#9c179e"
             ],
             [
              0.4444444444444444,
              "#bd3786"
             ],
             [
              0.5555555555555556,
              "#d8576b"
             ],
             [
              0.6666666666666666,
              "#ed7953"
             ],
             [
              0.7777777777777778,
              "#fb9f3a"
             ],
             [
              0.8888888888888888,
              "#fdca26"
             ],
             [
              1,
              "#f0f921"
             ]
            ],
            "type": "histogram2d"
           }
          ],
          "histogram2dcontour": [
           {
            "colorbar": {
             "outlinewidth": 0,
             "ticks": ""
            },
            "colorscale": [
             [
              0,
              "#0d0887"
             ],
             [
              0.1111111111111111,
              "#46039f"
             ],
             [
              0.2222222222222222,
              "#7201a8"
             ],
             [
              0.3333333333333333,
              "#9c179e"
             ],
             [
              0.4444444444444444,
              "#bd3786"
             ],
             [
              0.5555555555555556,
              "#d8576b"
             ],
             [
              0.6666666666666666,
              "#ed7953"
             ],
             [
              0.7777777777777778,
              "#fb9f3a"
             ],
             [
              0.8888888888888888,
              "#fdca26"
             ],
             [
              1,
              "#f0f921"
             ]
            ],
            "type": "histogram2dcontour"
           }
          ],
          "mesh3d": [
           {
            "colorbar": {
             "outlinewidth": 0,
             "ticks": ""
            },
            "type": "mesh3d"
           }
          ],
          "parcoords": [
           {
            "line": {
             "colorbar": {
              "outlinewidth": 0,
              "ticks": ""
             }
            },
            "type": "parcoords"
           }
          ],
          "pie": [
           {
            "automargin": true,
            "type": "pie"
           }
          ],
          "scatter": [
           {
            "fillpattern": {
             "fillmode": "overlay",
             "size": 10,
             "solidity": 0.2
            },
            "type": "scatter"
           }
          ],
          "scatter3d": [
           {
            "line": {
             "colorbar": {
              "outlinewidth": 0,
              "ticks": ""
             }
            },
            "marker": {
             "colorbar": {
              "outlinewidth": 0,
              "ticks": ""
             }
            },
            "type": "scatter3d"
           }
          ],
          "scattercarpet": [
           {
            "marker": {
             "colorbar": {
              "outlinewidth": 0,
              "ticks": ""
             }
            },
            "type": "scattercarpet"
           }
          ],
          "scattergeo": [
           {
            "marker": {
             "colorbar": {
              "outlinewidth": 0,
              "ticks": ""
             }
            },
            "type": "scattergeo"
           }
          ],
          "scattergl": [
           {
            "marker": {
             "colorbar": {
              "outlinewidth": 0,
              "ticks": ""
             }
            },
            "type": "scattergl"
           }
          ],
          "scattermap": [
           {
            "marker": {
             "colorbar": {
              "outlinewidth": 0,
              "ticks": ""
             }
            },
            "type": "scattermap"
           }
          ],
          "scattermapbox": [
           {
            "marker": {
             "colorbar": {
              "outlinewidth": 0,
              "ticks": ""
             }
            },
            "type": "scattermapbox"
           }
          ],
          "scatterpolar": [
           {
            "marker": {
             "colorbar": {
              "outlinewidth": 0,
              "ticks": ""
             }
            },
            "type": "scatterpolar"
           }
          ],
          "scatterpolargl": [
           {
            "marker": {
             "colorbar": {
              "outlinewidth": 0,
              "ticks": ""
             }
            },
            "type": "scatterpolargl"
           }
          ],
          "scatterternary": [
           {
            "marker": {
             "colorbar": {
              "outlinewidth": 0,
              "ticks": ""
             }
            },
            "type": "scatterternary"
           }
          ],
          "surface": [
           {
            "colorbar": {
             "outlinewidth": 0,
             "ticks": ""
            },
            "colorscale": [
             [
              0,
              "#0d0887"
             ],
             [
              0.1111111111111111,
              "#46039f"
             ],
             [
              0.2222222222222222,
              "#7201a8"
             ],
             [
              0.3333333333333333,
              "#9c179e"
             ],
             [
              0.4444444444444444,
              "#bd3786"
             ],
             [
              0.5555555555555556,
              "#d8576b"
             ],
             [
              0.6666666666666666,
              "#ed7953"
             ],
             [
              0.7777777777777778,
              "#fb9f3a"
             ],
             [
              0.8888888888888888,
              "#fdca26"
             ],
             [
              1,
              "#f0f921"
             ]
            ],
            "type": "surface"
           }
          ],
          "table": [
           {
            "cells": {
             "fill": {
              "color": "#EBF0F8"
             },
             "line": {
              "color": "white"
             }
            },
            "header": {
             "fill": {
              "color": "#C8D4E3"
             },
             "line": {
              "color": "white"
             }
            },
            "type": "table"
           }
          ]
         },
         "layout": {
          "annotationdefaults": {
           "arrowcolor": "#2a3f5f",
           "arrowhead": 0,
           "arrowwidth": 1
          },
          "autotypenumbers": "strict",
          "coloraxis": {
           "colorbar": {
            "outlinewidth": 0,
            "ticks": ""
           }
          },
          "colorscale": {
           "diverging": [
            [
             0,
             "#8e0152"
            ],
            [
             0.1,
             "#c51b7d"
            ],
            [
             0.2,
             "#de77ae"
            ],
            [
             0.3,
             "#f1b6da"
            ],
            [
             0.4,
             "#fde0ef"
            ],
            [
             0.5,
             "#f7f7f7"
            ],
            [
             0.6,
             "#e6f5d0"
            ],
            [
             0.7,
             "#b8e186"
            ],
            [
             0.8,
             "#7fbc41"
            ],
            [
             0.9,
             "#4d9221"
            ],
            [
             1,
             "#276419"
            ]
           ],
           "sequential": [
            [
             0,
             "#0d0887"
            ],
            [
             0.1111111111111111,
             "#46039f"
            ],
            [
             0.2222222222222222,
             "#7201a8"
            ],
            [
             0.3333333333333333,
             "#9c179e"
            ],
            [
             0.4444444444444444,
             "#bd3786"
            ],
            [
             0.5555555555555556,
             "#d8576b"
            ],
            [
             0.6666666666666666,
             "#ed7953"
            ],
            [
             0.7777777777777778,
             "#fb9f3a"
            ],
            [
             0.8888888888888888,
             "#fdca26"
            ],
            [
             1,
             "#f0f921"
            ]
           ],
           "sequentialminus": [
            [
             0,
             "#0d0887"
            ],
            [
             0.1111111111111111,
             "#46039f"
            ],
            [
             0.2222222222222222,
             "#7201a8"
            ],
            [
             0.3333333333333333,
             "#9c179e"
            ],
            [
             0.4444444444444444,
             "#bd3786"
            ],
            [
             0.5555555555555556,
             "#d8576b"
            ],
            [
             0.6666666666666666,
             "#ed7953"
            ],
            [
             0.7777777777777778,
             "#fb9f3a"
            ],
            [
             0.8888888888888888,
             "#fdca26"
            ],
            [
             1,
             "#f0f921"
            ]
           ]
          },
          "colorway": [
           "#636efa",
           "#EF553B",
           "#00cc96",
           "#ab63fa",
           "#FFA15A",
           "#19d3f3",
           "#FF6692",
           "#B6E880",
           "#FF97FF",
           "#FECB52"
          ],
          "font": {
           "color": "#2a3f5f"
          },
          "geo": {
           "bgcolor": "white",
           "lakecolor": "white",
           "landcolor": "#E5ECF6",
           "showlakes": true,
           "showland": true,
           "subunitcolor": "white"
          },
          "hoverlabel": {
           "align": "left"
          },
          "hovermode": "closest",
          "mapbox": {
           "style": "light"
          },
          "paper_bgcolor": "white",
          "plot_bgcolor": "#E5ECF6",
          "polar": {
           "angularaxis": {
            "gridcolor": "white",
            "linecolor": "white",
            "ticks": ""
           },
           "bgcolor": "#E5ECF6",
           "radialaxis": {
            "gridcolor": "white",
            "linecolor": "white",
            "ticks": ""
           }
          },
          "scene": {
           "xaxis": {
            "backgroundcolor": "#E5ECF6",
            "gridcolor": "white",
            "gridwidth": 2,
            "linecolor": "white",
            "showbackground": true,
            "ticks": "",
            "zerolinecolor": "white"
           },
           "yaxis": {
            "backgroundcolor": "#E5ECF6",
            "gridcolor": "white",
            "gridwidth": 2,
            "linecolor": "white",
            "showbackground": true,
            "ticks": "",
            "zerolinecolor": "white"
           },
           "zaxis": {
            "backgroundcolor": "#E5ECF6",
            "gridcolor": "white",
            "gridwidth": 2,
            "linecolor": "white",
            "showbackground": true,
            "ticks": "",
            "zerolinecolor": "white"
           }
          },
          "shapedefaults": {
           "line": {
            "color": "#2a3f5f"
           }
          },
          "ternary": {
           "aaxis": {
            "gridcolor": "white",
            "linecolor": "white",
            "ticks": ""
           },
           "baxis": {
            "gridcolor": "white",
            "linecolor": "white",
            "ticks": ""
           },
           "bgcolor": "#E5ECF6",
           "caxis": {
            "gridcolor": "white",
            "linecolor": "white",
            "ticks": ""
           }
          },
          "title": {
           "x": 0.05
          },
          "xaxis": {
           "automargin": true,
           "gridcolor": "white",
           "linecolor": "white",
           "ticks": "",
           "title": {
            "standoff": 15
           },
           "zerolinecolor": "white",
           "zerolinewidth": 2
          },
          "yaxis": {
           "automargin": true,
           "gridcolor": "white",
           "linecolor": "white",
           "ticks": "",
           "title": {
            "standoff": 15
           },
           "zerolinecolor": "white",
           "zerolinewidth": 2
          }
         }
        },
        "title": {
         "text": "Top 20 des labels les plus prédits"
        },
        "xaxis": {
         "anchor": "y",
         "domain": [
          0,
          1
         ],
         "tickangle": -45,
         "title": {
          "text": "Label"
         }
        },
        "yaxis": {
         "anchor": "x",
         "domain": [
          0,
          1
         ],
         "title": {
          "text": "Nombre de prédictions positives"
         }
        }
       }
      }
     },
     "metadata": {},
     "output_type": "display_data"
    }
   ],
   "source": [
    "import pandas as pd\n",
    "import plotly.express as px\n",
    "\n",
    "df = pd.read_excel(\"final_pred.xlsx\")\n",
    "\n",
    "df_labels = df.drop(columns=[\"name\"])\n",
    "\n",
    "label_counts = df_labels.sum().sort_values(ascending=False)\n",
    "\n",
    "top_labels = label_counts.head(20)\n",
    "\n",
    "fig = px.bar(\n",
    "    x=top_labels.index,\n",
    "    y=top_labels.values,\n",
    "    labels={'x': 'Label', 'y': 'Nombre de prédictions positives'},\n",
    "    title='Top 20 des labels les plus prédits'\n",
    ")\n",
    "fig.update_layout(xaxis_tickangle=-45)\n",
    "fig.show()\n"
   ]
  }
 ],
 "metadata": {
  "kernelspec": {
   "display_name": ".venv",
   "language": "python",
   "name": "python3"
  },
  "language_info": {
   "codemirror_mode": {
    "name": "ipython",
    "version": 3
   },
   "file_extension": ".py",
   "mimetype": "text/x-python",
   "name": "python",
   "nbconvert_exporter": "python",
   "pygments_lexer": "ipython3",
   "version": "3.11.9"
  }
 },
 "nbformat": 4,
 "nbformat_minor": 2
}
