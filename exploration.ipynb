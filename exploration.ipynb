{
 "cells": [
  {
   "cell_type": "code",
   "execution_count": null,
   "metadata": {},
   "outputs": [],
   "source": [
    "import networkx as nx\n",
    "import matplotlib.pyplot as plt\n",
    "import re\n",
    "\n",
    "with open(\"folder_test_set/0d35243714cb20973cf01cd499f106c27de602f82f733a385e067db6fa48640e.json\", \"r\", encoding=\"utf-8\", errors=\"ignore\") as f:\n",
    "    dot_str = f.read()\n",
    "\n",
    "G = nx.DiGraph()\n",
    "lines = dot_str.strip().split('\\n')\n",
    "\n",
    "for line in lines:\n",
    "    line = line.strip()\n",
    "    if '->' in line:\n",
    "        match = re.match(r'\"([^\"]+)\"\\s*->\\s*\"([^\"]+)\"', line)\n",
    "        if match:\n",
    "            src, dst = match.groups()\n",
    "            G.add_edge(src, dst)\n",
    "    elif '[' in line and 'label =' in line:\n",
    "        match = re.match(r'\"([^\"]+)\"\\s*\\[label = \"(.*?)\"\\]', line)\n",
    "        if match:\n",
    "            node_id, label = match.groups()\n",
    "            parts = label.split(' : ')\n",
    "            addr = parts[0]\n",
    "            instr_type = parts[1] if len(parts) > 1 else \"UNK\"\n",
    "            instr_text = parts[2] if len(parts) > 2 else \"\"\n",
    "            G.add_node(node_id, addr=addr, type=instr_type, text=instr_text)\n",
    "\n",
    "plt.figure(figsize=(12, 8))\n",
    "pos = nx.spring_layout(G)\n",
    "nx.draw(G, pos, with_labels=True, node_size=500, node_color=\"lightblue\", font_size=8, arrows=True)\n",
    "labels = nx.get_node_attributes(G, 'text')\n",
    "nx.draw_networkx_labels(G, pos, labels=labels, font_size=6)\n",
    "plt.axis('off')\n",
    "plt.tight_layout()\n",
    "plt.show()\n",
    "\n"
   ]
  }
 ],
 "metadata": {
  "kernelspec": {
   "display_name": ".venv",
   "language": "python",
   "name": "python3"
  },
  "language_info": {
   "codemirror_mode": {
    "name": "ipython",
    "version": 3
   },
   "file_extension": ".py",
   "mimetype": "text/x-python",
   "name": "python",
   "nbconvert_exporter": "python",
   "pygments_lexer": "ipython3",
   "version": "3.11.9"
  }
 },
 "nbformat": 4,
 "nbformat_minor": 2
}
